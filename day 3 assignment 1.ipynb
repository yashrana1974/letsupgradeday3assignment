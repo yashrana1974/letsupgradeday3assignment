{
 "cells": [
  {
   "cell_type": "code",
   "execution_count": 1,
   "metadata": {},
   "outputs": [
    {
     "name": "stdout",
     "output_type": "stream",
     "text": [
      "enter a number - 900\n",
      "safe to land\n"
     ]
    }
   ],
   "source": [
    "num = input(\"enter a number - \")\n",
    "num = int(num)\n",
    "\n",
    "if num <= 1000:\n",
    "    print(\"safe to land\")\n",
    "else:\n",
    "    print(\"no\")"
   ]
  },
  {
   "cell_type": "code",
   "execution_count": 2,
   "metadata": {},
   "outputs": [
    {
     "name": "stdout",
     "output_type": "stream",
     "text": [
      "enter a number - 1000\n",
      "safe to land\n"
     ]
    }
   ],
   "source": [
    "num = input(\"enter a number - \")\n",
    "num = int(num)\n",
    "\n",
    "if num <= 1000:\n",
    "    print(\"safe to land\")\n",
    "elif num <= 5000:\n",
    "    print(\"reduce to 1000\")\n",
    "else:\n",
    "    print(\"turn around\")"
   ]
  },
  {
   "cell_type": "code",
   "execution_count": 3,
   "metadata": {},
   "outputs": [
    {
     "name": "stdout",
     "output_type": "stream",
     "text": [
      "enter a number - 4500\n",
      "reduce to 1000\n"
     ]
    }
   ],
   "source": [
    "num = input(\"enter a number - \")\n",
    "num = int(num)\n",
    "\n",
    "if num <= 1000:\n",
    "    print(\"safe to land\")\n",
    "elif num <= 5000:\n",
    "    print(\"reduce to 1000\")\n",
    "else:\n",
    "    print(\"turn around\")"
   ]
  },
  {
   "cell_type": "code",
   "execution_count": 4,
   "metadata": {},
   "outputs": [
    {
     "name": "stdout",
     "output_type": "stream",
     "text": [
      "enter a number - 6500\n",
      "turn around\n"
     ]
    }
   ],
   "source": [
    "num = input(\"enter a number - \")\n",
    "num = int(num)\n",
    "\n",
    "if num <= 1000:\n",
    "    print(\"safe to land\")\n",
    "elif num <= 5000:\n",
    "    print(\"reduce to 1000\")\n",
    "else:\n",
    "    print(\"turn around\")"
   ]
  },
  {
   "cell_type": "code",
   "execution_count": 1,
   "metadata": {},
   "outputs": [
    {
     "name": "stdout",
     "output_type": "stream",
     "text": [
      "enter a number - 3500\n",
      "reduce to 1000\n"
     ]
    }
   ],
   "source": [
    "num = input(\"enter a number - \")\n",
    "num = int(num)\n",
    "\n",
    "if num <= 1000:\n",
    "    print(\"safe to land\")\n",
    "elif num <= 5000:\n",
    "    print(\"reduce to 1000\")\n",
    "else:\n",
    "    print(\"turn around\")"
   ]
  },
  {
   "cell_type": "code",
   "execution_count": 2,
   "metadata": {},
   "outputs": [
    {
     "name": "stdout",
     "output_type": "stream",
     "text": [
      "enter the speed - 2339\n",
      "reduce to 1000\n"
     ]
    }
   ],
   "source": [
    "num = input(\"enter the speed - \")\n",
    "num = int(num)\n",
    "\n",
    "if num <= 1000:\n",
    "    print(\"safe to land\")\n",
    "elif num <= 5000:\n",
    "    print(\"reduce to 1000\")\n",
    "else:\n",
    "    print(\"turn around\")"
   ]
  },
  {
   "cell_type": "code",
   "execution_count": null,
   "metadata": {},
   "outputs": [],
   "source": []
  }
 ],
 "metadata": {
  "kernelspec": {
   "display_name": "Python 3",
   "language": "python",
   "name": "python3"
  },
  "language_info": {
   "codemirror_mode": {
    "name": "ipython",
    "version": 3
   },
   "file_extension": ".py",
   "mimetype": "text/x-python",
   "name": "python",
   "nbconvert_exporter": "python",
   "pygments_lexer": "ipython3",
   "version": "3.8.3"
  }
 },
 "nbformat": 4,
 "nbformat_minor": 4
}
